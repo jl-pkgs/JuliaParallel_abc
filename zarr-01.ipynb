{
 "cells": [
  {
   "cell_type": "code",
   "execution_count": 3,
   "metadata": {},
   "outputs": [
    {
     "name": "stderr",
     "output_type": "stream",
     "text": [
      "\r\u001b[32mProgress:  22%|█████████▏                               |  ETA: 0:00:13\u001b[39m\u001b[K"
     ]
    },
    {
     "name": "stderr",
     "output_type": "stream",
     "text": [
      "\r\u001b[32mProgress:  33%|█████████████▋                           |  ETA: 0:00:14\u001b[39m\u001b[K"
     ]
    },
    {
     "name": "stderr",
     "output_type": "stream",
     "text": [
      "\r\u001b[32mProgress:  44%|██████████████████▎                      |  ETA: 0:00:12\u001b[39m\u001b[K"
     ]
    },
    {
     "name": "stderr",
     "output_type": "stream",
     "text": [
      "\r\u001b[32mProgress:  56%|██████████████████████▊                  |  ETA: 0:00:10\u001b[39m\u001b[K"
     ]
    },
    {
     "name": "stderr",
     "output_type": "stream",
     "text": [
      "\r\u001b[32mProgress:  67%|███████████████████████████▍             |  ETA: 0:00:08\u001b[39m\u001b[K"
     ]
    },
    {
     "name": "stderr",
     "output_type": "stream",
     "text": [
      "\r\u001b[32mProgress:  78%|███████████████████████████████▉         |  ETA: 0:00:05\u001b[39m\u001b[K"
     ]
    },
    {
     "name": "stderr",
     "output_type": "stream",
     "text": [
      "\r\u001b[32mProgress:  89%|████████████████████████████████████▌    |  ETA: 0:00:03\u001b[39m\u001b[K"
     ]
    },
    {
     "name": "stderr",
     "output_type": "stream",
     "text": [
      "\r\u001b[32mProgress: 100%|█████████████████████████████████████████| Time: 0:00:23\u001b[39m\u001b[K\n"
     ]
    },
    {
     "name": "stderr",
     "output_type": "stream",
     "text": [
      "\r\u001b[32mProgress:  22%|█████████▏                               |  ETA: 0:00:13\u001b[39m\u001b[K"
     ]
    },
    {
     "name": "stderr",
     "output_type": "stream",
     "text": [
      "\r\u001b[32mProgress:  33%|█████████████▋                           |  ETA: 0:00:13\u001b[39m\u001b[K"
     ]
    },
    {
     "name": "stderr",
     "output_type": "stream",
     "text": [
      "\r\u001b[32mProgress:  44%|██████████████████▎                      |  ETA: 0:00:12\u001b[39m\u001b[K"
     ]
    },
    {
     "name": "stderr",
     "output_type": "stream",
     "text": [
      "\r\u001b[32mProgress:  56%|██████████████████████▊                  |  ETA: 0:00:10\u001b[39m\u001b[K"
     ]
    },
    {
     "name": "stderr",
     "output_type": "stream",
     "text": [
      "\r\u001b[32mProgress:  67%|███████████████████████████▍             |  ETA: 0:00:08\u001b[39m\u001b[K"
     ]
    },
    {
     "name": "stderr",
     "output_type": "stream",
     "text": [
      "\r\u001b[32mProgress:  78%|███████████████████████████████▉         |  ETA: 0:00:05\u001b[39m\u001b[K"
     ]
    },
    {
     "name": "stderr",
     "output_type": "stream",
     "text": [
      "\r\u001b[32mProgress:  89%|████████████████████████████████████▌    |  ETA: 0:00:03\u001b[39m\u001b[K"
     ]
    },
    {
     "name": "stderr",
     "output_type": "stream",
     "text": [
      "\r\u001b[32mProgress: 100%|█████████████████████████████████████████| Time: 0:00:23\u001b[39m\u001b[K\n"
     ]
    },
    {
     "data": {
      "text/plain": [
       "365×1000×1500×2 YAXArray{Float64,4}\u001b[90m with dimensions: \u001b[39m\n",
       "  \u001b[31mDim{\u001b[39m\u001b[33m:time\u001b[39m\u001b[31m}\u001b[39m Sampled{Date} \u001b[36mDate(\"2022-01-01\"):Day(1):Date(\"2022-12-31\")\u001b[39m ForwardOrdered Regular Points,\n",
       "  \u001b[31mDim{\u001b[39m\u001b[33m:lon\u001b[39m\u001b[31m}\u001b[39m Sampled{Float64} \u001b[36m1.0:0.009009009009009009:10.0\u001b[39m ForwardOrdered Regular Points,\n",
       "  \u001b[31mDim{\u001b[39m\u001b[33m:lat\u001b[39m\u001b[31m}\u001b[39m Sampled{Float64} \u001b[36m1.0:0.00266844563042028:5.0\u001b[39m ForwardOrdered Regular Points,\n",
       "  \u001b[31mDim{\u001b[39m\u001b[33m:Variable\u001b[39m\u001b[31m}\u001b[39m Categorical{String} \u001b[36mString[\"var1\", \"var2\"]\u001b[39m ForwardOrdered\n",
       "Total size: 8.16 GB\n"
      ]
     },
     "metadata": {},
     "output_type": "display_data"
    }
   ],
   "source": [
    "using YAXArrays, Statistics, Zarr, NetCDF\n",
    "using DimensionalData\n",
    "using Dates\n",
    "\n",
    "axlist = (\n",
    "  Dim{:time}(Date(\"2022-01-01\"):Day(1):Date(\"2022-12-31\")),\n",
    "  Dim{:lon}(range(1, 10, length=1000)),\n",
    "  Dim{:lat}(range(1, 5, length=1500)),\n",
    "  Dim{:Variable}([\"var1\", \"var2\"])\n",
    ")\n",
    "\n",
    "data = rand(axlist...)\n",
    "ds = YAXArray(axlist, data)\n",
    "\n",
    "#Save the cube to zarr for parallel processing\n",
    "dschunked = setchunks(ds, (time=365, lon=100, lat=150))\n",
    "# p = tempname()\n",
    "p = \"data/temp-01.zarr\"\n",
    "@time savecube(dschunked, p, backend=:zarr)"
   ]
  }
 ],
 "metadata": {
  "kernelspec": {
   "display_name": "Julia 1.9.3",
   "language": "julia",
   "name": "julia-1.9"
  },
  "language_info": {
   "file_extension": ".jl",
   "mimetype": "application/julia",
   "name": "julia",
   "version": "1.9.3"
  },
  "orig_nbformat": 4
 },
 "nbformat": 4,
 "nbformat_minor": 2
}
